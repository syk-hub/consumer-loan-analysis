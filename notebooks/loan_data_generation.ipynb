{
 "cells": [
  {
   "cell_type": "markdown",
   "id": "0261efdc-b93d-482d-a361-ec14fcb78daf",
   "metadata": {},
   "source": [
    "The generated dataset is saved as a CSV file: `loan_data.csv` and an Excel file: `loan_data.xlsx`\r\n",
    ".\r\n"
   ]
  },
  {
   "cell_type": "code",
   "execution_count": 5,
   "id": "cc03eaae-4601-45cc-8d5e-35189adcaf3a",
   "metadata": {},
   "outputs": [
    {
     "name": "stdout",
     "output_type": "stream",
     "text": [
      "Dataset saved to 'loan_data.csv'\n",
      "Dataset saved to 'loan_data.xlsx'\n"
     ]
    }
   ],
   "source": [
    "import pandas as pd\r\n",
    "import numpy as np\r\n",
    "from datetime import datetime, timedelta\r\n",
    "\r\n",
    "# Set random seed for reproducibility\r\n",
    "np.random.seed(42)\r\n",
    "\r\n",
    "# Number of cases\r\n",
    "n_cases = 10000\r\n",
    "\r\n",
    "# Generate synthetic data\r\n",
    "loan_data = {\r\n",
    "    \"Loan_ID\": [f\"LN{i:05}\" for i in range(1, n_cases + 1)],\r\n",
    "    \"Loan_Amount\": np.random.randint(1000, 50000, size=n_cases),  # Loan amounts in $\r\n",
    "    \"Loan_Term\": np.random.choice([12, 24, 36, 48, 60], size=n_cases),  # Loan term in months\r\n",
    "    \"Annual_Income\": np.random.randint(20000, 200000, size=n_cases),  # Annual income in $\r\n",
    "    \"Credit_Score\": np.random.randint(300, 850, size=n_cases),  # Credit score range\r\n",
    "    \"Employment_Length\": np.random.randint(0, 30, size=n_cases),  # Employment length in years\r\n",
    "    \"Loan_Status\": np.random.choice([\"Approved\", \"Default\"], size=n_cases, p=[0.85, 0.15]),  # 85% Approved\r\n",
    "}\r\n",
    "\r\n",
    "# Convert to DataFrame\r\n",
    "loan_df = pd.DataFrame(loan_data)\r\n",
    "\r\n",
    "# Generate random Loan Issue Dates within the range 2010-01-01 to 2024-12-31\r\n",
    "start_date = datetime(2010, 1, 1)\r\n",
    "end_date = datetime(2024, 12, 31)\r\n",
    "date_range = (end_date - start_date).days\r\n",
    "\r\n",
    "loan_df[\"Loan_Issue_Date\"] = [\r\n",
    "    start_date + timedelta(days=np.random.randint(0, date_range)) for _ in range(n_cases)\r\n",
    "]\r\n",
    "\r\n",
    "# Save to CSV\r\n",
    "loan_df.to_csv(\"loan_data.csv\", index=False)\r\n",
    "print(\"Dataset saved to 'loan_data.csv'\")\r\n",
    "\r\n",
    "# Save to Excel\r\n",
    "loan_df.to_excel(\"loan_data.xlsx\", index=False, engine='openpyxl')\r\n",
    "print(\"Dataset saved to 'loan_data.xlsx'\")\r\n"
   ]
  }
 ],
 "metadata": {
  "kernelspec": {
   "display_name": "Python 3 (ipykernel)",
   "language": "python",
   "name": "python3"
  },
  "language_info": {
   "codemirror_mode": {
    "name": "ipython",
    "version": 3
   },
   "file_extension": ".py",
   "mimetype": "text/x-python",
   "name": "python",
   "nbconvert_exporter": "python",
   "pygments_lexer": "ipython3",
   "version": "3.12.4"
  }
 },
 "nbformat": 4,
 "nbformat_minor": 5
}
